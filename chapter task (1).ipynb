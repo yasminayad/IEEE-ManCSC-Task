{
 "cells": [
  {
   "cell_type": "code",
   "execution_count": 1,
   "id": "048ac173",
   "metadata": {},
   "outputs": [
    {
     "name": "stderr",
     "output_type": "stream",
     "text": [
      "C:\\Users\\yasme\\OneDrive\\Desktop\\yasmin\\lib\\site-packages\\scipy\\__init__.py:155: UserWarning: A NumPy version >=1.18.5 and <1.25.0 is required for this version of SciPy (detected version 1.26.4\n",
      "  warnings.warn(f\"A NumPy version >={np_minversion} and <{np_maxversion}\"\n"
     ]
    }
   ],
   "source": [
    "import numpy as np\n",
    "import pandas as pd\n",
    "import matplotlib.pyplot as plt\n",
    "import seaborn as sns\n",
    "import plotly.express as px\n",
    "import scipy.stats as stats\n",
    "from sklearn.model_selection import train_test_split"
   ]
  },
  {
   "cell_type": "code",
   "execution_count": 2,
   "id": "043f39e7",
   "metadata": {},
   "outputs": [],
   "source": [
    "df = pd.read_csv(r'C:\\Users\\yasme\\Downloads\\data.csv')"
   ]
  },
  {
   "cell_type": "markdown",
   "id": "232b99c2",
   "metadata": {},
   "source": [
    "# 1- Data Exploration"
   ]
  },
  {
   "cell_type": "code",
   "execution_count": 3,
   "id": "3ca02e10",
   "metadata": {},
   "outputs": [
    {
     "data": {
      "text/plain": [
       "(2938, 19)"
      ]
     },
     "execution_count": 3,
     "metadata": {},
     "output_type": "execute_result"
    }
   ],
   "source": [
    "df.shape"
   ]
  },
  {
   "cell_type": "code",
   "execution_count": 4,
   "id": "efc81acf",
   "metadata": {},
   "outputs": [
    {
     "name": "stdout",
     "output_type": "stream",
     "text": [
      "<class 'pandas.core.frame.DataFrame'>\n",
      "RangeIndex: 2938 entries, 0 to 2937\n",
      "Data columns (total 19 columns):\n",
      " #   Column                            Non-Null Count  Dtype  \n",
      "---  ------                            --------------  -----  \n",
      " 0   Unnamed: 0                        2938 non-null   int64  \n",
      " 1   Nation                            2937 non-null   object \n",
      " 2   Survey_Year                       2936 non-null   float64\n",
      " 3   Country_Category                  2935 non-null   object \n",
      " 4   Mortality_Adults                  2925 non-null   float64\n",
      " 5   Infant_Deaths_Count               2938 non-null   int64  \n",
      " 6   Alcohol_Consumption_Rate          2744 non-null   float64\n",
      " 7   Expenditure_Percentage_GDP        2938 non-null   float64\n",
      " 8   Hepatitis_B_Vaccination_Coverage  2385 non-null   float64\n",
      " 9   Measles_Infection_Count           2936 non-null   float64\n",
      " 10  Body_Mass_Index_Avg               2904 non-null   float64\n",
      " 11  Polio_Vaccination_Coverage        2919 non-null   float64\n",
      " 12  Total_Health_Expenditure          2711 non-null   float64\n",
      " 13  Diphtheria_Vaccination_Coverage   2919 non-null   float64\n",
      " 14  HIV_AIDS_Prevalence_Rate          2938 non-null   float64\n",
      " 15  Gross_Domestic_Product            2490 non-null   float64\n",
      " 16  Total_Population                  2286 non-null   float64\n",
      " 17  Thinness                          2904 non-null   float64\n",
      " 18  Life_Expectancy_Years             2928 non-null   float64\n",
      "dtypes: float64(15), int64(2), object(2)\n",
      "memory usage: 436.2+ KB\n"
     ]
    }
   ],
   "source": [
    "df.info()"
   ]
  },
  {
   "cell_type": "code",
   "execution_count": 5,
   "id": "882cc52e",
   "metadata": {},
   "outputs": [
    {
     "data": {
      "text/html": [
       "<div>\n",
       "<style scoped>\n",
       "    .dataframe tbody tr th:only-of-type {\n",
       "        vertical-align: middle;\n",
       "    }\n",
       "\n",
       "    .dataframe tbody tr th {\n",
       "        vertical-align: top;\n",
       "    }\n",
       "\n",
       "    .dataframe thead th {\n",
       "        text-align: right;\n",
       "    }\n",
       "</style>\n",
       "<table border=\"1\" class=\"dataframe\">\n",
       "  <thead>\n",
       "    <tr style=\"text-align: right;\">\n",
       "      <th></th>\n",
       "      <th>Unnamed: 0</th>\n",
       "      <th>Nation</th>\n",
       "      <th>Survey_Year</th>\n",
       "      <th>Country_Category</th>\n",
       "      <th>Mortality_Adults</th>\n",
       "      <th>Infant_Deaths_Count</th>\n",
       "      <th>Alcohol_Consumption_Rate</th>\n",
       "      <th>Expenditure_Percentage_GDP</th>\n",
       "      <th>Hepatitis_B_Vaccination_Coverage</th>\n",
       "      <th>Measles_Infection_Count</th>\n",
       "      <th>Body_Mass_Index_Avg</th>\n",
       "      <th>Polio_Vaccination_Coverage</th>\n",
       "      <th>Total_Health_Expenditure</th>\n",
       "      <th>Diphtheria_Vaccination_Coverage</th>\n",
       "      <th>HIV_AIDS_Prevalence_Rate</th>\n",
       "      <th>Gross_Domestic_Product</th>\n",
       "      <th>Total_Population</th>\n",
       "      <th>Thinness</th>\n",
       "      <th>Life_Expectancy_Years</th>\n",
       "    </tr>\n",
       "  </thead>\n",
       "  <tbody>\n",
       "    <tr>\n",
       "      <th>0</th>\n",
       "      <td>0</td>\n",
       "      <td>Syrian Arab Republic</td>\n",
       "      <td>2006.0</td>\n",
       "      <td>Developing</td>\n",
       "      <td>123.0</td>\n",
       "      <td>8</td>\n",
       "      <td>0.97</td>\n",
       "      <td>122.652333</td>\n",
       "      <td>83.0</td>\n",
       "      <td>517.0</td>\n",
       "      <td>48.5</td>\n",
       "      <td>83.0</td>\n",
       "      <td>3.78</td>\n",
       "      <td>8.0</td>\n",
       "      <td>0.1</td>\n",
       "      <td>1762.246170</td>\n",
       "      <td>18914977.0</td>\n",
       "      <td>6.4</td>\n",
       "      <td>73.7</td>\n",
       "    </tr>\n",
       "    <tr>\n",
       "      <th>1</th>\n",
       "      <td>1</td>\n",
       "      <td>Croatia</td>\n",
       "      <td>2006.0</td>\n",
       "      <td>Developed</td>\n",
       "      <td>113.0</td>\n",
       "      <td>0</td>\n",
       "      <td>11.83</td>\n",
       "      <td>1555.651986</td>\n",
       "      <td>NaN</td>\n",
       "      <td>1.0</td>\n",
       "      <td>58.1</td>\n",
       "      <td>96.0</td>\n",
       "      <td>6.95</td>\n",
       "      <td>96.0</td>\n",
       "      <td>0.1</td>\n",
       "      <td>11363.418450</td>\n",
       "      <td>444.0</td>\n",
       "      <td>1.8</td>\n",
       "      <td>75.9</td>\n",
       "    </tr>\n",
       "    <tr>\n",
       "      <th>2</th>\n",
       "      <td>2</td>\n",
       "      <td>Montenegro</td>\n",
       "      <td>2007.0</td>\n",
       "      <td>Developing</td>\n",
       "      <td>125.0</td>\n",
       "      <td>0</td>\n",
       "      <td>4.98</td>\n",
       "      <td>678.518894</td>\n",
       "      <td>9.0</td>\n",
       "      <td>0.0</td>\n",
       "      <td>57.2</td>\n",
       "      <td>92.0</td>\n",
       "      <td>6.74</td>\n",
       "      <td>92.0</td>\n",
       "      <td>0.1</td>\n",
       "      <td>5957.145693</td>\n",
       "      <td>615875.0</td>\n",
       "      <td>2.1</td>\n",
       "      <td>74.2</td>\n",
       "    </tr>\n",
       "    <tr>\n",
       "      <th>3</th>\n",
       "      <td>3</td>\n",
       "      <td>Bahrain</td>\n",
       "      <td>2014.0</td>\n",
       "      <td>Developing</td>\n",
       "      <td>7.0</td>\n",
       "      <td>0</td>\n",
       "      <td>1.57</td>\n",
       "      <td>367.255674</td>\n",
       "      <td>98.0</td>\n",
       "      <td>46.0</td>\n",
       "      <td>62.9</td>\n",
       "      <td>98.0</td>\n",
       "      <td>4.98</td>\n",
       "      <td>98.0</td>\n",
       "      <td>0.1</td>\n",
       "      <td>24983.379200</td>\n",
       "      <td>NaN</td>\n",
       "      <td>6.1</td>\n",
       "      <td>76.8</td>\n",
       "    </tr>\n",
       "    <tr>\n",
       "      <th>4</th>\n",
       "      <td>4</td>\n",
       "      <td>Kenya</td>\n",
       "      <td>2000.0</td>\n",
       "      <td>Developing</td>\n",
       "      <td>428.0</td>\n",
       "      <td>77</td>\n",
       "      <td>1.51</td>\n",
       "      <td>0.681686</td>\n",
       "      <td>NaN</td>\n",
       "      <td>21002.0</td>\n",
       "      <td>14.4</td>\n",
       "      <td>8.0</td>\n",
       "      <td>4.68</td>\n",
       "      <td>82.0</td>\n",
       "      <td>18.1</td>\n",
       "      <td>43.979713</td>\n",
       "      <td>3145483.0</td>\n",
       "      <td>9.2</td>\n",
       "      <td>51.9</td>\n",
       "    </tr>\n",
       "    <tr>\n",
       "      <th>5</th>\n",
       "      <td>5</td>\n",
       "      <td>Chad</td>\n",
       "      <td>2008.0</td>\n",
       "      <td>Developing</td>\n",
       "      <td>394.0</td>\n",
       "      <td>46</td>\n",
       "      <td>0.45</td>\n",
       "      <td>49.091982</td>\n",
       "      <td>17.0</td>\n",
       "      <td>63.0</td>\n",
       "      <td>16.4</td>\n",
       "      <td>3.0</td>\n",
       "      <td>2.92</td>\n",
       "      <td>19.0</td>\n",
       "      <td>4.7</td>\n",
       "      <td>929.772391</td>\n",
       "      <td>11133861.0</td>\n",
       "      <td>9.8</td>\n",
       "      <td>49.6</td>\n",
       "    </tr>\n",
       "    <tr>\n",
       "      <th>6</th>\n",
       "      <td>6</td>\n",
       "      <td>Solomon Islands</td>\n",
       "      <td>2005.0</td>\n",
       "      <td>Developing</td>\n",
       "      <td>24.0</td>\n",
       "      <td>0</td>\n",
       "      <td>0.90</td>\n",
       "      <td>25.311560</td>\n",
       "      <td>83.0</td>\n",
       "      <td>0.0</td>\n",
       "      <td>42.1</td>\n",
       "      <td>9.0</td>\n",
       "      <td>7.83</td>\n",
       "      <td>89.0</td>\n",
       "      <td>0.1</td>\n",
       "      <td>88.874858</td>\n",
       "      <td>469885.0</td>\n",
       "      <td>1.3</td>\n",
       "      <td>67.4</td>\n",
       "    </tr>\n",
       "    <tr>\n",
       "      <th>7</th>\n",
       "      <td>7</td>\n",
       "      <td>Peru</td>\n",
       "      <td>2008.0</td>\n",
       "      <td>Developing</td>\n",
       "      <td>138.0</td>\n",
       "      <td>11</td>\n",
       "      <td>4.85</td>\n",
       "      <td>58.498974</td>\n",
       "      <td>93.0</td>\n",
       "      <td>1.0</td>\n",
       "      <td>5.8</td>\n",
       "      <td>93.0</td>\n",
       "      <td>4.73</td>\n",
       "      <td>93.0</td>\n",
       "      <td>0.3</td>\n",
       "      <td>428.878110</td>\n",
       "      <td>2864198.0</td>\n",
       "      <td>1.2</td>\n",
       "      <td>73.9</td>\n",
       "    </tr>\n",
       "    <tr>\n",
       "      <th>8</th>\n",
       "      <td>8</td>\n",
       "      <td>Bosnia and Herzegovina</td>\n",
       "      <td>2014.0</td>\n",
       "      <td>Developing</td>\n",
       "      <td>89.0</td>\n",
       "      <td>0</td>\n",
       "      <td>4.03</td>\n",
       "      <td>732.866249</td>\n",
       "      <td>89.0</td>\n",
       "      <td>3000.0</td>\n",
       "      <td>55.3</td>\n",
       "      <td>86.0</td>\n",
       "      <td>9.57</td>\n",
       "      <td>86.0</td>\n",
       "      <td>0.1</td>\n",
       "      <td>5193.949320</td>\n",
       "      <td>35662.0</td>\n",
       "      <td>2.4</td>\n",
       "      <td>77.2</td>\n",
       "    </tr>\n",
       "    <tr>\n",
       "      <th>9</th>\n",
       "      <td>9</td>\n",
       "      <td>Swaziland</td>\n",
       "      <td>2011.0</td>\n",
       "      <td>NaN</td>\n",
       "      <td>438.0</td>\n",
       "      <td>2</td>\n",
       "      <td>5.20</td>\n",
       "      <td>735.709098</td>\n",
       "      <td>91.0</td>\n",
       "      <td>0.0</td>\n",
       "      <td>3.2</td>\n",
       "      <td>85.0</td>\n",
       "      <td>8.61</td>\n",
       "      <td>91.0</td>\n",
       "      <td>15.7</td>\n",
       "      <td>3934.273250</td>\n",
       "      <td>1225258.0</td>\n",
       "      <td>5.1</td>\n",
       "      <td>55.0</td>\n",
       "    </tr>\n",
       "  </tbody>\n",
       "</table>\n",
       "</div>"
      ],
      "text/plain": [
       "   Unnamed: 0                  Nation  Survey_Year Country_Category  \\\n",
       "0           0    Syrian Arab Republic       2006.0       Developing   \n",
       "1           1                 Croatia       2006.0        Developed   \n",
       "2           2              Montenegro       2007.0       Developing   \n",
       "3           3                 Bahrain       2014.0       Developing   \n",
       "4           4                   Kenya       2000.0       Developing   \n",
       "5           5                    Chad       2008.0       Developing   \n",
       "6           6         Solomon Islands       2005.0       Developing   \n",
       "7           7                    Peru       2008.0       Developing   \n",
       "8           8  Bosnia and Herzegovina       2014.0       Developing   \n",
       "9           9               Swaziland       2011.0              NaN   \n",
       "\n",
       "   Mortality_Adults  Infant_Deaths_Count  Alcohol_Consumption_Rate  \\\n",
       "0             123.0                    8                      0.97   \n",
       "1             113.0                    0                     11.83   \n",
       "2             125.0                    0                      4.98   \n",
       "3               7.0                    0                      1.57   \n",
       "4             428.0                   77                      1.51   \n",
       "5             394.0                   46                      0.45   \n",
       "6              24.0                    0                      0.90   \n",
       "7             138.0                   11                      4.85   \n",
       "8              89.0                    0                      4.03   \n",
       "9             438.0                    2                      5.20   \n",
       "\n",
       "   Expenditure_Percentage_GDP  Hepatitis_B_Vaccination_Coverage  \\\n",
       "0                  122.652333                              83.0   \n",
       "1                 1555.651986                               NaN   \n",
       "2                  678.518894                               9.0   \n",
       "3                  367.255674                              98.0   \n",
       "4                    0.681686                               NaN   \n",
       "5                   49.091982                              17.0   \n",
       "6                   25.311560                              83.0   \n",
       "7                   58.498974                              93.0   \n",
       "8                  732.866249                              89.0   \n",
       "9                  735.709098                              91.0   \n",
       "\n",
       "   Measles_Infection_Count  Body_Mass_Index_Avg  Polio_Vaccination_Coverage  \\\n",
       "0                    517.0                 48.5                        83.0   \n",
       "1                      1.0                 58.1                        96.0   \n",
       "2                      0.0                 57.2                        92.0   \n",
       "3                     46.0                 62.9                        98.0   \n",
       "4                  21002.0                 14.4                         8.0   \n",
       "5                     63.0                 16.4                         3.0   \n",
       "6                      0.0                 42.1                         9.0   \n",
       "7                      1.0                  5.8                        93.0   \n",
       "8                   3000.0                 55.3                        86.0   \n",
       "9                      0.0                  3.2                        85.0   \n",
       "\n",
       "   Total_Health_Expenditure  Diphtheria_Vaccination_Coverage  \\\n",
       "0                      3.78                              8.0   \n",
       "1                      6.95                             96.0   \n",
       "2                      6.74                             92.0   \n",
       "3                      4.98                             98.0   \n",
       "4                      4.68                             82.0   \n",
       "5                      2.92                             19.0   \n",
       "6                      7.83                             89.0   \n",
       "7                      4.73                             93.0   \n",
       "8                      9.57                             86.0   \n",
       "9                      8.61                             91.0   \n",
       "\n",
       "   HIV_AIDS_Prevalence_Rate  Gross_Domestic_Product  Total_Population  \\\n",
       "0                       0.1             1762.246170        18914977.0   \n",
       "1                       0.1            11363.418450             444.0   \n",
       "2                       0.1             5957.145693          615875.0   \n",
       "3                       0.1            24983.379200               NaN   \n",
       "4                      18.1               43.979713         3145483.0   \n",
       "5                       4.7              929.772391        11133861.0   \n",
       "6                       0.1               88.874858          469885.0   \n",
       "7                       0.3              428.878110         2864198.0   \n",
       "8                       0.1             5193.949320           35662.0   \n",
       "9                      15.7             3934.273250         1225258.0   \n",
       "\n",
       "   Thinness  Life_Expectancy_Years  \n",
       "0       6.4                   73.7  \n",
       "1       1.8                   75.9  \n",
       "2       2.1                   74.2  \n",
       "3       6.1                   76.8  \n",
       "4       9.2                   51.9  \n",
       "5       9.8                   49.6  \n",
       "6       1.3                   67.4  \n",
       "7       1.2                   73.9  \n",
       "8       2.4                   77.2  \n",
       "9       5.1                   55.0  "
      ]
     },
     "execution_count": 5,
     "metadata": {},
     "output_type": "execute_result"
    }
   ],
   "source": [
    "df.head(10)"
   ]
  },
  {
   "cell_type": "code",
   "execution_count": 6,
   "id": "941e9bde",
   "metadata": {},
   "outputs": [
    {
     "data": {
      "text/plain": [
       "Unnamed: 0                            0\n",
       "Nation                                1\n",
       "Survey_Year                           2\n",
       "Country_Category                      3\n",
       "Mortality_Adults                     13\n",
       "Infant_Deaths_Count                   0\n",
       "Alcohol_Consumption_Rate            194\n",
       "Expenditure_Percentage_GDP            0\n",
       "Hepatitis_B_Vaccination_Coverage    553\n",
       "Measles_Infection_Count               2\n",
       "Body_Mass_Index_Avg                  34\n",
       "Polio_Vaccination_Coverage           19\n",
       "Total_Health_Expenditure            227\n",
       "Diphtheria_Vaccination_Coverage      19\n",
       "HIV_AIDS_Prevalence_Rate              0\n",
       "Gross_Domestic_Product              448\n",
       "Total_Population                    652\n",
       "Thinness                             34\n",
       "Life_Expectancy_Years                10\n",
       "dtype: int64"
      ]
     },
     "execution_count": 6,
     "metadata": {},
     "output_type": "execute_result"
    }
   ],
   "source": [
    "df.isnull().sum()"
   ]
  },
  {
   "cell_type": "code",
   "execution_count": 7,
   "id": "41e2b095",
   "metadata": {},
   "outputs": [
    {
     "data": {
      "text/html": [
       "<div>\n",
       "<style scoped>\n",
       "    .dataframe tbody tr th:only-of-type {\n",
       "        vertical-align: middle;\n",
       "    }\n",
       "\n",
       "    .dataframe tbody tr th {\n",
       "        vertical-align: top;\n",
       "    }\n",
       "\n",
       "    .dataframe thead th {\n",
       "        text-align: right;\n",
       "    }\n",
       "</style>\n",
       "<table border=\"1\" class=\"dataframe\">\n",
       "  <thead>\n",
       "    <tr style=\"text-align: right;\">\n",
       "      <th></th>\n",
       "      <th>Unnamed: 0</th>\n",
       "      <th>Survey_Year</th>\n",
       "      <th>Mortality_Adults</th>\n",
       "      <th>Infant_Deaths_Count</th>\n",
       "      <th>Alcohol_Consumption_Rate</th>\n",
       "      <th>Expenditure_Percentage_GDP</th>\n",
       "      <th>Hepatitis_B_Vaccination_Coverage</th>\n",
       "      <th>Measles_Infection_Count</th>\n",
       "      <th>Body_Mass_Index_Avg</th>\n",
       "      <th>Polio_Vaccination_Coverage</th>\n",
       "      <th>Total_Health_Expenditure</th>\n",
       "      <th>Diphtheria_Vaccination_Coverage</th>\n",
       "      <th>HIV_AIDS_Prevalence_Rate</th>\n",
       "      <th>Gross_Domestic_Product</th>\n",
       "      <th>Total_Population</th>\n",
       "      <th>Thinness</th>\n",
       "      <th>Life_Expectancy_Years</th>\n",
       "    </tr>\n",
       "  </thead>\n",
       "  <tbody>\n",
       "    <tr>\n",
       "      <th>count</th>\n",
       "      <td>2938.000000</td>\n",
       "      <td>2936.00000</td>\n",
       "      <td>2925.000000</td>\n",
       "      <td>2938.000000</td>\n",
       "      <td>2744.000000</td>\n",
       "      <td>2938.000000</td>\n",
       "      <td>2385.000000</td>\n",
       "      <td>2936.000000</td>\n",
       "      <td>2904.000000</td>\n",
       "      <td>2919.000000</td>\n",
       "      <td>2711.000000</td>\n",
       "      <td>2919.000000</td>\n",
       "      <td>2938.000000</td>\n",
       "      <td>2490.000000</td>\n",
       "      <td>2.286000e+03</td>\n",
       "      <td>2904.000000</td>\n",
       "      <td>2928.000000</td>\n",
       "    </tr>\n",
       "    <tr>\n",
       "      <th>mean</th>\n",
       "      <td>1468.500000</td>\n",
       "      <td>2007.52282</td>\n",
       "      <td>164.865299</td>\n",
       "      <td>30.303948</td>\n",
       "      <td>4.602861</td>\n",
       "      <td>738.251295</td>\n",
       "      <td>80.940461</td>\n",
       "      <td>2420.752384</td>\n",
       "      <td>38.321247</td>\n",
       "      <td>82.550188</td>\n",
       "      <td>5.938359</td>\n",
       "      <td>82.324084</td>\n",
       "      <td>1.742103</td>\n",
       "      <td>7483.158469</td>\n",
       "      <td>1.275338e+07</td>\n",
       "      <td>4.839704</td>\n",
       "      <td>69.224932</td>\n",
       "    </tr>\n",
       "    <tr>\n",
       "      <th>std</th>\n",
       "      <td>848.271871</td>\n",
       "      <td>4.61257</td>\n",
       "      <td>124.316868</td>\n",
       "      <td>117.926501</td>\n",
       "      <td>4.052413</td>\n",
       "      <td>1987.914858</td>\n",
       "      <td>25.070016</td>\n",
       "      <td>11471.077443</td>\n",
       "      <td>20.044034</td>\n",
       "      <td>23.428046</td>\n",
       "      <td>2.498765</td>\n",
       "      <td>23.716912</td>\n",
       "      <td>5.077785</td>\n",
       "      <td>14270.169342</td>\n",
       "      <td>6.101210e+07</td>\n",
       "      <td>4.420195</td>\n",
       "      <td>9.523867</td>\n",
       "    </tr>\n",
       "    <tr>\n",
       "      <th>min</th>\n",
       "      <td>0.000000</td>\n",
       "      <td>2000.00000</td>\n",
       "      <td>1.000000</td>\n",
       "      <td>0.000000</td>\n",
       "      <td>0.010000</td>\n",
       "      <td>0.000000</td>\n",
       "      <td>1.000000</td>\n",
       "      <td>0.000000</td>\n",
       "      <td>1.000000</td>\n",
       "      <td>3.000000</td>\n",
       "      <td>0.370000</td>\n",
       "      <td>2.000000</td>\n",
       "      <td>0.100000</td>\n",
       "      <td>1.681350</td>\n",
       "      <td>3.400000e+01</td>\n",
       "      <td>0.100000</td>\n",
       "      <td>36.300000</td>\n",
       "    </tr>\n",
       "    <tr>\n",
       "      <th>25%</th>\n",
       "      <td>734.250000</td>\n",
       "      <td>2004.00000</td>\n",
       "      <td>74.000000</td>\n",
       "      <td>0.000000</td>\n",
       "      <td>0.877500</td>\n",
       "      <td>4.685343</td>\n",
       "      <td>77.000000</td>\n",
       "      <td>0.000000</td>\n",
       "      <td>19.300000</td>\n",
       "      <td>78.000000</td>\n",
       "      <td>4.260000</td>\n",
       "      <td>78.000000</td>\n",
       "      <td>0.100000</td>\n",
       "      <td>463.935626</td>\n",
       "      <td>1.957932e+05</td>\n",
       "      <td>1.600000</td>\n",
       "      <td>63.100000</td>\n",
       "    </tr>\n",
       "    <tr>\n",
       "      <th>50%</th>\n",
       "      <td>1468.500000</td>\n",
       "      <td>2008.00000</td>\n",
       "      <td>144.000000</td>\n",
       "      <td>3.000000</td>\n",
       "      <td>3.755000</td>\n",
       "      <td>64.912906</td>\n",
       "      <td>92.000000</td>\n",
       "      <td>17.000000</td>\n",
       "      <td>43.500000</td>\n",
       "      <td>93.000000</td>\n",
       "      <td>5.760000</td>\n",
       "      <td>93.000000</td>\n",
       "      <td>0.100000</td>\n",
       "      <td>1766.947595</td>\n",
       "      <td>1.386542e+06</td>\n",
       "      <td>3.300000</td>\n",
       "      <td>72.100000</td>\n",
       "    </tr>\n",
       "    <tr>\n",
       "      <th>75%</th>\n",
       "      <td>2202.750000</td>\n",
       "      <td>2012.00000</td>\n",
       "      <td>228.000000</td>\n",
       "      <td>22.000000</td>\n",
       "      <td>7.702500</td>\n",
       "      <td>441.534144</td>\n",
       "      <td>97.000000</td>\n",
       "      <td>358.750000</td>\n",
       "      <td>56.200000</td>\n",
       "      <td>97.000000</td>\n",
       "      <td>7.495000</td>\n",
       "      <td>97.000000</td>\n",
       "      <td>0.800000</td>\n",
       "      <td>5910.806335</td>\n",
       "      <td>7.420359e+06</td>\n",
       "      <td>7.200000</td>\n",
       "      <td>75.700000</td>\n",
       "    </tr>\n",
       "    <tr>\n",
       "      <th>max</th>\n",
       "      <td>2937.000000</td>\n",
       "      <td>2015.00000</td>\n",
       "      <td>723.000000</td>\n",
       "      <td>1800.000000</td>\n",
       "      <td>17.870000</td>\n",
       "      <td>19479.911610</td>\n",
       "      <td>99.000000</td>\n",
       "      <td>212183.000000</td>\n",
       "      <td>87.300000</td>\n",
       "      <td>99.000000</td>\n",
       "      <td>17.600000</td>\n",
       "      <td>99.000000</td>\n",
       "      <td>50.600000</td>\n",
       "      <td>119172.741800</td>\n",
       "      <td>1.293859e+09</td>\n",
       "      <td>27.700000</td>\n",
       "      <td>89.000000</td>\n",
       "    </tr>\n",
       "  </tbody>\n",
       "</table>\n",
       "</div>"
      ],
      "text/plain": [
       "        Unnamed: 0  Survey_Year  Mortality_Adults  Infant_Deaths_Count  \\\n",
       "count  2938.000000   2936.00000       2925.000000          2938.000000   \n",
       "mean   1468.500000   2007.52282        164.865299            30.303948   \n",
       "std     848.271871      4.61257        124.316868           117.926501   \n",
       "min       0.000000   2000.00000          1.000000             0.000000   \n",
       "25%     734.250000   2004.00000         74.000000             0.000000   \n",
       "50%    1468.500000   2008.00000        144.000000             3.000000   \n",
       "75%    2202.750000   2012.00000        228.000000            22.000000   \n",
       "max    2937.000000   2015.00000        723.000000          1800.000000   \n",
       "\n",
       "       Alcohol_Consumption_Rate  Expenditure_Percentage_GDP  \\\n",
       "count               2744.000000                 2938.000000   \n",
       "mean                   4.602861                  738.251295   \n",
       "std                    4.052413                 1987.914858   \n",
       "min                    0.010000                    0.000000   \n",
       "25%                    0.877500                    4.685343   \n",
       "50%                    3.755000                   64.912906   \n",
       "75%                    7.702500                  441.534144   \n",
       "max                   17.870000                19479.911610   \n",
       "\n",
       "       Hepatitis_B_Vaccination_Coverage  Measles_Infection_Count  \\\n",
       "count                       2385.000000              2936.000000   \n",
       "mean                          80.940461              2420.752384   \n",
       "std                           25.070016             11471.077443   \n",
       "min                            1.000000                 0.000000   \n",
       "25%                           77.000000                 0.000000   \n",
       "50%                           92.000000                17.000000   \n",
       "75%                           97.000000               358.750000   \n",
       "max                           99.000000            212183.000000   \n",
       "\n",
       "       Body_Mass_Index_Avg  Polio_Vaccination_Coverage  \\\n",
       "count          2904.000000                 2919.000000   \n",
       "mean             38.321247                   82.550188   \n",
       "std              20.044034                   23.428046   \n",
       "min               1.000000                    3.000000   \n",
       "25%              19.300000                   78.000000   \n",
       "50%              43.500000                   93.000000   \n",
       "75%              56.200000                   97.000000   \n",
       "max              87.300000                   99.000000   \n",
       "\n",
       "       Total_Health_Expenditure  Diphtheria_Vaccination_Coverage  \\\n",
       "count               2711.000000                      2919.000000   \n",
       "mean                   5.938359                        82.324084   \n",
       "std                    2.498765                        23.716912   \n",
       "min                    0.370000                         2.000000   \n",
       "25%                    4.260000                        78.000000   \n",
       "50%                    5.760000                        93.000000   \n",
       "75%                    7.495000                        97.000000   \n",
       "max                   17.600000                        99.000000   \n",
       "\n",
       "       HIV_AIDS_Prevalence_Rate  Gross_Domestic_Product  Total_Population  \\\n",
       "count               2938.000000             2490.000000      2.286000e+03   \n",
       "mean                   1.742103             7483.158469      1.275338e+07   \n",
       "std                    5.077785            14270.169342      6.101210e+07   \n",
       "min                    0.100000                1.681350      3.400000e+01   \n",
       "25%                    0.100000              463.935626      1.957932e+05   \n",
       "50%                    0.100000             1766.947595      1.386542e+06   \n",
       "75%                    0.800000             5910.806335      7.420359e+06   \n",
       "max                   50.600000           119172.741800      1.293859e+09   \n",
       "\n",
       "          Thinness  Life_Expectancy_Years  \n",
       "count  2904.000000            2928.000000  \n",
       "mean      4.839704              69.224932  \n",
       "std       4.420195               9.523867  \n",
       "min       0.100000              36.300000  \n",
       "25%       1.600000              63.100000  \n",
       "50%       3.300000              72.100000  \n",
       "75%       7.200000              75.700000  \n",
       "max      27.700000              89.000000  "
      ]
     },
     "execution_count": 7,
     "metadata": {},
     "output_type": "execute_result"
    }
   ],
   "source": [
    "df.describe()"
   ]
  },
  {
   "cell_type": "markdown",
   "id": "b67150fd",
   "metadata": {},
   "source": [
    "# 2- Data Cleaning"
   ]
  },
  {
   "cell_type": "code",
   "execution_count": 8,
   "id": "aad50702",
   "metadata": {},
   "outputs": [],
   "source": [
    "# The goal of the machine model i will build is to classify countries into specific categories (developed  or  developing)\n",
    "# The removed columns have a high percentage of missing values or are irrelevant to the classification objective"
   ]
  },
  {
   "cell_type": "markdown",
   "id": "fee0ab7d",
   "metadata": {},
   "source": [
    "### Nation column"
   ]
  },
  {
   "cell_type": "code",
   "execution_count": 9,
   "id": "ccd1b8a6",
   "metadata": {},
   "outputs": [],
   "source": [
    "df.drop(['Unnamed: 0', 'Survey_Year', 'Mortality_Adults', 'Body_Mass_Index_Avg', 'Alcohol_Consumption_Rate', \n",
    "         'Diphtheria_Vaccination_Coverage'], \n",
    "        axis=1, inplace=True)"
   ]
  },
  {
   "cell_type": "code",
   "execution_count": 10,
   "id": "fe4809b4",
   "metadata": {},
   "outputs": [
    {
     "data": {
      "text/plain": [
       "Nation                                1\n",
       "Country_Category                      3\n",
       "Infant_Deaths_Count                   0\n",
       "Expenditure_Percentage_GDP            0\n",
       "Hepatitis_B_Vaccination_Coverage    553\n",
       "Measles_Infection_Count               2\n",
       "Polio_Vaccination_Coverage           19\n",
       "Total_Health_Expenditure            227\n",
       "HIV_AIDS_Prevalence_Rate              0\n",
       "Gross_Domestic_Product              448\n",
       "Total_Population                    652\n",
       "Thinness                             34\n",
       "Life_Expectancy_Years                10\n",
       "dtype: int64"
      ]
     },
     "execution_count": 10,
     "metadata": {},
     "output_type": "execute_result"
    }
   ],
   "source": [
    "df.isnull().sum()"
   ]
  },
  {
   "cell_type": "markdown",
   "id": "a2047ec7",
   "metadata": {},
   "source": [
    "### Country_Category"
   ]
  },
  {
   "cell_type": "code",
   "execution_count": 11,
   "id": "76f42319",
   "metadata": {},
   "outputs": [
    {
     "data": {
      "text/plain": [
       "array(['Developing', 'Developed', nan], dtype=object)"
      ]
     },
     "execution_count": 11,
     "metadata": {},
     "output_type": "execute_result"
    }
   ],
   "source": [
    "df['Country_Category'].unique()"
   ]
  },
  {
   "cell_type": "code",
   "execution_count": 12,
   "id": "0498ba7f",
   "metadata": {},
   "outputs": [
    {
     "data": {
      "text/plain": [
       "3"
      ]
     },
     "execution_count": 12,
     "metadata": {},
     "output_type": "execute_result"
    }
   ],
   "source": [
    "df['Country_Category'].isnull().sum()"
   ]
  },
  {
   "cell_type": "code",
   "execution_count": 13,
   "id": "3b2438f2",
   "metadata": {},
   "outputs": [],
   "source": [
    "df.dropna(subset=['Country_Category'], inplace=True)"
   ]
  },
  {
   "cell_type": "code",
   "execution_count": 14,
   "id": "28829dd8",
   "metadata": {},
   "outputs": [
    {
     "data": {
      "text/plain": [
       "0"
      ]
     },
     "execution_count": 14,
     "metadata": {},
     "output_type": "execute_result"
    }
   ],
   "source": [
    "df['Country_Category'].isnull().sum()"
   ]
  },
  {
   "cell_type": "code",
   "execution_count": 15,
   "id": "3ca3eeb5",
   "metadata": {},
   "outputs": [],
   "source": [
    "df['Country_Category'] = df['Country_Category'].replace({'Developing': 0, 'Developed': 1})"
   ]
  },
  {
   "cell_type": "code",
   "execution_count": 16,
   "id": "679bc146",
   "metadata": {},
   "outputs": [
    {
     "data": {
      "text/plain": [
       "array([0, 1], dtype=int64)"
      ]
     },
     "execution_count": 16,
     "metadata": {},
     "output_type": "execute_result"
    }
   ],
   "source": [
    "df['Country_Category'].unique()"
   ]
  },
  {
   "cell_type": "markdown",
   "id": "81ce171a",
   "metadata": {},
   "source": [
    "### Infant_Deaths_Count"
   ]
  },
  {
   "cell_type": "code",
   "execution_count": 17,
   "id": "d0cd3fb6",
   "metadata": {},
   "outputs": [],
   "source": [
    "df['Infant_Deaths_Count'] = df['Infant_Deaths_Count'].replace(0, df['Infant_Deaths_Count'].median())"
   ]
  },
  {
   "cell_type": "markdown",
   "id": "08f675c9",
   "metadata": {},
   "source": [
    "### Expenditure_Percentage_GDP"
   ]
  },
  {
   "cell_type": "code",
   "execution_count": 18,
   "id": "3589bb60",
   "metadata": {},
   "outputs": [],
   "source": [
    "df['Expenditure_Percentage_GDP'] = df['Expenditure_Percentage_GDP'].round().astype(int)"
   ]
  },
  {
   "cell_type": "code",
   "execution_count": 19,
   "id": "582afe39",
   "metadata": {},
   "outputs": [],
   "source": [
    "df['Expenditure_Percentage_GDP'] = df['Expenditure_Percentage_GDP'].replace(0, df['Expenditure_Percentage_GDP'].median())"
   ]
  },
  {
   "cell_type": "markdown",
   "id": "dc6e2cc9",
   "metadata": {},
   "source": [
    "### Hepatitis_B_Vaccination_Coverage"
   ]
  },
  {
   "cell_type": "code",
   "execution_count": 20,
   "id": "6c60f357",
   "metadata": {},
   "outputs": [
    {
     "data": {
      "text/plain": [
       "array([83., nan,  9., 98., 17., 93., 89., 63., 99., 88., 68., 95., 81.,\n",
       "       94., 82., 86., 49., 36., 25., 78., 96., 84., 92., 91., 76., 47.,\n",
       "       75.,  8., 73.,  2., 52., 64., 97., 14., 11., 77., 45., 37., 71.,\n",
       "       72., 85., 67., 55., 44.,  5., 74., 41.,  6., 35., 87.,  7., 56.,\n",
       "       62., 29., 66., 69., 16., 53., 79., 51.,  4., 42., 58., 61., 57.,\n",
       "       46., 39., 33., 31., 65., 28., 43., 48., 27., 21., 26., 59., 23.,\n",
       "       18., 24., 22., 54., 15., 32.,  1., 38., 12., 19.])"
      ]
     },
     "execution_count": 20,
     "metadata": {},
     "output_type": "execute_result"
    }
   ],
   "source": [
    "df['Hepatitis_B_Vaccination_Coverage'].unique()"
   ]
  },
  {
   "cell_type": "code",
   "execution_count": 21,
   "id": "587830fb",
   "metadata": {},
   "outputs": [],
   "source": [
    "df['Hepatitis_B_Vaccination_Coverage'] = df['Hepatitis_B_Vaccination_Coverage'].fillna(df['Hepatitis_B_Vaccination_Coverage'].mean())"
   ]
  },
  {
   "cell_type": "code",
   "execution_count": 22,
   "id": "692370e3",
   "metadata": {},
   "outputs": [],
   "source": [
    "df['Hepatitis_B_Vaccination_Coverage'] = df['Hepatitis_B_Vaccination_Coverage'].round().astype(int)"
   ]
  },
  {
   "cell_type": "code",
   "execution_count": 23,
   "id": "d657f91b",
   "metadata": {},
   "outputs": [
    {
     "data": {
      "text/plain": [
       "0     83\n",
       "1     81\n",
       "2      9\n",
       "3     98\n",
       "4     81\n",
       "5     17\n",
       "6     83\n",
       "7     93\n",
       "8     89\n",
       "10    81\n",
       "Name: Hepatitis_B_Vaccination_Coverage, dtype: int32"
      ]
     },
     "execution_count": 23,
     "metadata": {},
     "output_type": "execute_result"
    }
   ],
   "source": [
    "df['Hepatitis_B_Vaccination_Coverage'].head(10)"
   ]
  },
  {
   "cell_type": "markdown",
   "id": "bdf961d0",
   "metadata": {},
   "source": [
    "### Measles_Infection_Count "
   ]
  },
  {
   "cell_type": "code",
   "execution_count": 24,
   "id": "cd46463f",
   "metadata": {},
   "outputs": [],
   "source": [
    "df.dropna(subset=['Measles_Infection_Count'], inplace=True)"
   ]
  },
  {
   "cell_type": "code",
   "execution_count": 25,
   "id": "d81bfb8c",
   "metadata": {},
   "outputs": [],
   "source": [
    "df['Measles_Infection_Count'] = df['Measles_Infection_Count'].replace(0.0, df['Measles_Infection_Count'].median())"
   ]
  },
  {
   "cell_type": "code",
   "execution_count": 26,
   "id": "e17e2b31",
   "metadata": {},
   "outputs": [],
   "source": [
    "df['Measles_Infection_Count'] = df['Measles_Infection_Count'].round().astype(int)"
   ]
  },
  {
   "cell_type": "markdown",
   "id": "916f31da",
   "metadata": {},
   "source": [
    "### Polio_Vaccination_Coverage "
   ]
  },
  {
   "cell_type": "code",
   "execution_count": 27,
   "id": "5e52c81b",
   "metadata": {},
   "outputs": [
    {
     "data": {
      "text/plain": [
       "array([83., 96., 92., 98.,  8.,  3.,  9., 93., 86., 57., 81., 63., 99.,\n",
       "       65., 58., 71., 91., 95., 79., 94., 66., 88., 87., 72., 82., 84.,\n",
       "       47., 89.,  4.,  7., 55., 51., 97., 52., 77., 75., 59., 73., 76.,\n",
       "       85., 62., 56., 46., 69., 78., nan, 44., 74., 49., 61., 67., 43.,\n",
       "        6., 17., 41., 38., 42.,  5., 68., 48., 39., 64., 45., 26., 54.,\n",
       "       36., 37., 35., 23., 53., 32., 24., 31., 33.])"
      ]
     },
     "execution_count": 27,
     "metadata": {},
     "output_type": "execute_result"
    }
   ],
   "source": [
    "df['Polio_Vaccination_Coverage'].unique()"
   ]
  },
  {
   "cell_type": "code",
   "execution_count": 28,
   "id": "378e3532",
   "metadata": {},
   "outputs": [
    {
     "data": {
      "text/plain": [
       "19"
      ]
     },
     "execution_count": 28,
     "metadata": {},
     "output_type": "execute_result"
    }
   ],
   "source": [
    "df['Polio_Vaccination_Coverage'].isnull().sum()"
   ]
  },
  {
   "cell_type": "code",
   "execution_count": 29,
   "id": "a4cd58bf",
   "metadata": {},
   "outputs": [],
   "source": [
    "df['Polio_Vaccination_Coverage'] = df['Polio_Vaccination_Coverage'].fillna(df['Polio_Vaccination_Coverage'].median())"
   ]
  },
  {
   "cell_type": "code",
   "execution_count": 30,
   "id": "4c8a5c16",
   "metadata": {},
   "outputs": [],
   "source": [
    "df['Polio_Vaccination_Coverage'] = df['Polio_Vaccination_Coverage'].astype(int)"
   ]
  },
  {
   "cell_type": "code",
   "execution_count": 31,
   "id": "ecad0088",
   "metadata": {},
   "outputs": [
    {
     "data": {
      "text/plain": [
       "array([83, 96, 92, 98,  8,  3,  9, 93, 86, 57, 81, 63, 99, 65, 58, 71, 91,\n",
       "       95, 79, 94, 66, 88, 87, 72, 82, 84, 47, 89,  4,  7, 55, 51, 97, 52,\n",
       "       77, 75, 59, 73, 76, 85, 62, 56, 46, 69, 78, 44, 74, 49, 61, 67, 43,\n",
       "        6, 17, 41, 38, 42,  5, 68, 48, 39, 64, 45, 26, 54, 36, 37, 35, 23,\n",
       "       53, 32, 24, 31, 33])"
      ]
     },
     "execution_count": 31,
     "metadata": {},
     "output_type": "execute_result"
    }
   ],
   "source": [
    "df['Polio_Vaccination_Coverage'].unique()"
   ]
  },
  {
   "cell_type": "markdown",
   "id": "71e10ba3",
   "metadata": {},
   "source": [
    "### Total_Health_Expenditure            "
   ]
  },
  {
   "cell_type": "code",
   "execution_count": 32,
   "id": "1b17e652",
   "metadata": {},
   "outputs": [
    {
     "data": {
      "text/plain": [
       "0     3.78\n",
       "1     6.95\n",
       "2     6.74\n",
       "3     4.98\n",
       "4     4.68\n",
       "5     2.92\n",
       "6     7.83\n",
       "7     4.73\n",
       "8     9.57\n",
       "10    4.48\n",
       "11     NaN\n",
       "12    4.73\n",
       "13    7.37\n",
       "14    6.32\n",
       "15    6.68\n",
       "16    5.80\n",
       "17    1.37\n",
       "18    5.90\n",
       "19    8.65\n",
       "20    8.52\n",
       "Name: Total_Health_Expenditure, dtype: float64"
      ]
     },
     "execution_count": 32,
     "metadata": {},
     "output_type": "execute_result"
    }
   ],
   "source": [
    "df['Total_Health_Expenditure'].head(20)"
   ]
  },
  {
   "cell_type": "code",
   "execution_count": 33,
   "id": "de6af2f7",
   "metadata": {},
   "outputs": [],
   "source": [
    "df['Total_Health_Expenditure'] = df['Total_Health_Expenditure'].fillna(df['Total_Health_Expenditure'].median())"
   ]
  },
  {
   "cell_type": "code",
   "execution_count": 34,
   "id": "be4f8a65",
   "metadata": {},
   "outputs": [
    {
     "data": {
      "text/plain": [
       "0"
      ]
     },
     "execution_count": 34,
     "metadata": {},
     "output_type": "execute_result"
    }
   ],
   "source": [
    "df['Total_Health_Expenditure'].isnull().sum()"
   ]
  },
  {
   "cell_type": "markdown",
   "id": "7758a599",
   "metadata": {},
   "source": [
    "### Gross_Domestic_Product"
   ]
  },
  {
   "cell_type": "code",
   "execution_count": 35,
   "id": "d0a6c9ec",
   "metadata": {},
   "outputs": [
    {
     "data": {
      "text/plain": [
       "array([ 1762.24617  , 11363.41845  ,  5957.145693 , ...,   615.8198192,\n",
       "       27387.2258   ,   276.75896  ])"
      ]
     },
     "execution_count": 35,
     "metadata": {},
     "output_type": "execute_result"
    }
   ],
   "source": [
    "df['Gross_Domestic_Product'].unique()"
   ]
  },
  {
   "cell_type": "code",
   "execution_count": 36,
   "id": "c5422a8c",
   "metadata": {},
   "outputs": [],
   "source": [
    "df['Gross_Domestic_Product'].fillna(df['Gross_Domestic_Product'].median(), inplace=True)"
   ]
  },
  {
   "cell_type": "code",
   "execution_count": 37,
   "id": "8316ee15",
   "metadata": {},
   "outputs": [],
   "source": [
    "df['Gross_Domestic_Product'] = df['Gross_Domestic_Product'].round().astype(int)"
   ]
  },
  {
   "cell_type": "markdown",
   "id": "4e645d7d",
   "metadata": {},
   "source": [
    "### Total_Population"
   ]
  },
  {
   "cell_type": "code",
   "execution_count": 38,
   "id": "4da6a76d",
   "metadata": {},
   "outputs": [
    {
     "data": {
      "text/plain": [
       "array([1.8914977e+07, 4.4400000e+02, 6.1587500e+05, ..., 9.5568890e+06,\n",
       "       5.7313230e+06, 3.9697000e+04])"
      ]
     },
     "execution_count": 38,
     "metadata": {},
     "output_type": "execute_result"
    }
   ],
   "source": [
    "df['Total_Population'].unique()"
   ]
  },
  {
   "cell_type": "code",
   "execution_count": 39,
   "id": "c96fc5ad",
   "metadata": {},
   "outputs": [
    {
     "data": {
      "text/plain": [
       "count    2.281000e+03\n",
       "mean     1.276437e+07\n",
       "std      6.107489e+07\n",
       "min      3.400000e+01\n",
       "25%      1.955530e+05\n",
       "50%      1.395398e+06\n",
       "75%      7.423289e+06\n",
       "max      1.293859e+09\n",
       "Name: Total_Population, dtype: float64"
      ]
     },
     "execution_count": 39,
     "metadata": {},
     "output_type": "execute_result"
    }
   ],
   "source": [
    "df['Total_Population'].describe()"
   ]
  },
  {
   "cell_type": "code",
   "execution_count": 40,
   "id": "ade55e7b",
   "metadata": {},
   "outputs": [],
   "source": [
    "df['Total_Population'].fillna(df['Total_Population'].median(), inplace=True)"
   ]
  },
  {
   "cell_type": "code",
   "execution_count": 41,
   "id": "bb257d8e",
   "metadata": {},
   "outputs": [],
   "source": [
    "df['Total_Population'] = df['Total_Population'].apply(lambda x: '{:,.0f}'.format(x))"
   ]
  },
  {
   "cell_type": "code",
   "execution_count": 42,
   "id": "39b04fbe",
   "metadata": {},
   "outputs": [
    {
     "data": {
      "text/plain": [
       "array(['18,914,977', '444', '615,875', ..., '9,556,889', '5,731,323',\n",
       "       '39,697'], dtype=object)"
      ]
     },
     "execution_count": 42,
     "metadata": {},
     "output_type": "execute_result"
    }
   ],
   "source": [
    "df['Total_Population'].unique()"
   ]
  },
  {
   "cell_type": "code",
   "execution_count": 43,
   "id": "a1db0f48",
   "metadata": {},
   "outputs": [],
   "source": [
    "df['Total_Population'] = df['Total_Population'].replace({',': ''}, regex=True).astype(int)"
   ]
  },
  {
   "cell_type": "markdown",
   "id": "e2c2564d",
   "metadata": {},
   "source": [
    "### Thinness    -    Life_Expectancy_Years"
   ]
  },
  {
   "cell_type": "code",
   "execution_count": 44,
   "id": "4fd63b0e",
   "metadata": {},
   "outputs": [],
   "source": [
    "df = df.dropna(subset=['Thinness', 'Life_Expectancy_Years'])"
   ]
  },
  {
   "cell_type": "code",
   "execution_count": 45,
   "id": "22b9ad79",
   "metadata": {},
   "outputs": [],
   "source": [
    "df['Thinness'] = df['Thinness'].round().astype(int)\n",
    "df['Life_Expectancy_Years'] = df['Life_Expectancy_Years'].round().astype(int)"
   ]
  },
  {
   "cell_type": "code",
   "execution_count": 46,
   "id": "33f3ebb5",
   "metadata": {},
   "outputs": [
    {
     "data": {
      "text/plain": [
       "Nation                              1\n",
       "Country_Category                    0\n",
       "Infant_Deaths_Count                 0\n",
       "Expenditure_Percentage_GDP          0\n",
       "Hepatitis_B_Vaccination_Coverage    0\n",
       "Measles_Infection_Count             0\n",
       "Polio_Vaccination_Coverage          0\n",
       "Total_Health_Expenditure            0\n",
       "HIV_AIDS_Prevalence_Rate            0\n",
       "Gross_Domestic_Product              0\n",
       "Total_Population                    0\n",
       "Thinness                            0\n",
       "Life_Expectancy_Years               0\n",
       "dtype: int64"
      ]
     },
     "execution_count": 46,
     "metadata": {},
     "output_type": "execute_result"
    }
   ],
   "source": [
    "df.isnull().sum()"
   ]
  },
  {
   "cell_type": "code",
   "execution_count": 47,
   "id": "4563d441",
   "metadata": {},
   "outputs": [
    {
     "data": {
      "text/plain": [
       "(2891, 13)"
      ]
     },
     "execution_count": 47,
     "metadata": {},
     "output_type": "execute_result"
    }
   ],
   "source": [
    "df.shape"
   ]
  },
  {
   "cell_type": "code",
   "execution_count": 48,
   "id": "c7cd0fb9",
   "metadata": {},
   "outputs": [
    {
     "data": {
      "text/html": [
       "<div>\n",
       "<style scoped>\n",
       "    .dataframe tbody tr th:only-of-type {\n",
       "        vertical-align: middle;\n",
       "    }\n",
       "\n",
       "    .dataframe tbody tr th {\n",
       "        vertical-align: top;\n",
       "    }\n",
       "\n",
       "    .dataframe thead th {\n",
       "        text-align: right;\n",
       "    }\n",
       "</style>\n",
       "<table border=\"1\" class=\"dataframe\">\n",
       "  <thead>\n",
       "    <tr style=\"text-align: right;\">\n",
       "      <th></th>\n",
       "      <th>Nation</th>\n",
       "      <th>Country_Category</th>\n",
       "      <th>Infant_Deaths_Count</th>\n",
       "      <th>Expenditure_Percentage_GDP</th>\n",
       "      <th>Hepatitis_B_Vaccination_Coverage</th>\n",
       "      <th>Measles_Infection_Count</th>\n",
       "      <th>Polio_Vaccination_Coverage</th>\n",
       "      <th>Total_Health_Expenditure</th>\n",
       "      <th>HIV_AIDS_Prevalence_Rate</th>\n",
       "      <th>Gross_Domestic_Product</th>\n",
       "      <th>Total_Population</th>\n",
       "      <th>Thinness</th>\n",
       "      <th>Life_Expectancy_Years</th>\n",
       "    </tr>\n",
       "  </thead>\n",
       "  <tbody>\n",
       "    <tr>\n",
       "      <th>0</th>\n",
       "      <td>Syrian Arab Republic</td>\n",
       "      <td>0</td>\n",
       "      <td>8</td>\n",
       "      <td>123</td>\n",
       "      <td>83</td>\n",
       "      <td>517</td>\n",
       "      <td>83</td>\n",
       "      <td>3.780</td>\n",
       "      <td>0.1</td>\n",
       "      <td>1762</td>\n",
       "      <td>18914977</td>\n",
       "      <td>6</td>\n",
       "      <td>74</td>\n",
       "    </tr>\n",
       "    <tr>\n",
       "      <th>1</th>\n",
       "      <td>Croatia</td>\n",
       "      <td>1</td>\n",
       "      <td>3</td>\n",
       "      <td>1556</td>\n",
       "      <td>81</td>\n",
       "      <td>1</td>\n",
       "      <td>96</td>\n",
       "      <td>6.950</td>\n",
       "      <td>0.1</td>\n",
       "      <td>11363</td>\n",
       "      <td>444</td>\n",
       "      <td>2</td>\n",
       "      <td>76</td>\n",
       "    </tr>\n",
       "    <tr>\n",
       "      <th>2</th>\n",
       "      <td>Montenegro</td>\n",
       "      <td>0</td>\n",
       "      <td>3</td>\n",
       "      <td>679</td>\n",
       "      <td>9</td>\n",
       "      <td>17</td>\n",
       "      <td>92</td>\n",
       "      <td>6.740</td>\n",
       "      <td>0.1</td>\n",
       "      <td>5957</td>\n",
       "      <td>615875</td>\n",
       "      <td>2</td>\n",
       "      <td>74</td>\n",
       "    </tr>\n",
       "    <tr>\n",
       "      <th>3</th>\n",
       "      <td>Bahrain</td>\n",
       "      <td>0</td>\n",
       "      <td>3</td>\n",
       "      <td>367</td>\n",
       "      <td>98</td>\n",
       "      <td>46</td>\n",
       "      <td>98</td>\n",
       "      <td>4.980</td>\n",
       "      <td>0.1</td>\n",
       "      <td>24983</td>\n",
       "      <td>1395398</td>\n",
       "      <td>6</td>\n",
       "      <td>77</td>\n",
       "    </tr>\n",
       "    <tr>\n",
       "      <th>4</th>\n",
       "      <td>Kenya</td>\n",
       "      <td>0</td>\n",
       "      <td>77</td>\n",
       "      <td>1</td>\n",
       "      <td>81</td>\n",
       "      <td>21002</td>\n",
       "      <td>8</td>\n",
       "      <td>4.680</td>\n",
       "      <td>18.1</td>\n",
       "      <td>44</td>\n",
       "      <td>3145483</td>\n",
       "      <td>9</td>\n",
       "      <td>52</td>\n",
       "    </tr>\n",
       "    <tr>\n",
       "      <th>5</th>\n",
       "      <td>Chad</td>\n",
       "      <td>0</td>\n",
       "      <td>46</td>\n",
       "      <td>49</td>\n",
       "      <td>17</td>\n",
       "      <td>63</td>\n",
       "      <td>3</td>\n",
       "      <td>2.920</td>\n",
       "      <td>4.7</td>\n",
       "      <td>930</td>\n",
       "      <td>11133861</td>\n",
       "      <td>10</td>\n",
       "      <td>50</td>\n",
       "    </tr>\n",
       "    <tr>\n",
       "      <th>6</th>\n",
       "      <td>Solomon Islands</td>\n",
       "      <td>0</td>\n",
       "      <td>3</td>\n",
       "      <td>25</td>\n",
       "      <td>83</td>\n",
       "      <td>17</td>\n",
       "      <td>9</td>\n",
       "      <td>7.830</td>\n",
       "      <td>0.1</td>\n",
       "      <td>89</td>\n",
       "      <td>469885</td>\n",
       "      <td>1</td>\n",
       "      <td>67</td>\n",
       "    </tr>\n",
       "    <tr>\n",
       "      <th>7</th>\n",
       "      <td>Peru</td>\n",
       "      <td>0</td>\n",
       "      <td>11</td>\n",
       "      <td>58</td>\n",
       "      <td>93</td>\n",
       "      <td>1</td>\n",
       "      <td>93</td>\n",
       "      <td>4.730</td>\n",
       "      <td>0.3</td>\n",
       "      <td>429</td>\n",
       "      <td>2864198</td>\n",
       "      <td>1</td>\n",
       "      <td>74</td>\n",
       "    </tr>\n",
       "    <tr>\n",
       "      <th>8</th>\n",
       "      <td>Bosnia and Herzegovina</td>\n",
       "      <td>0</td>\n",
       "      <td>3</td>\n",
       "      <td>733</td>\n",
       "      <td>89</td>\n",
       "      <td>3000</td>\n",
       "      <td>86</td>\n",
       "      <td>9.570</td>\n",
       "      <td>0.1</td>\n",
       "      <td>5194</td>\n",
       "      <td>35662</td>\n",
       "      <td>2</td>\n",
       "      <td>77</td>\n",
       "    </tr>\n",
       "    <tr>\n",
       "      <th>10</th>\n",
       "      <td>Cameroon</td>\n",
       "      <td>0</td>\n",
       "      <td>62</td>\n",
       "      <td>5</td>\n",
       "      <td>81</td>\n",
       "      <td>14629</td>\n",
       "      <td>57</td>\n",
       "      <td>4.480</td>\n",
       "      <td>7.7</td>\n",
       "      <td>68</td>\n",
       "      <td>15274234</td>\n",
       "      <td>8</td>\n",
       "      <td>51</td>\n",
       "    </tr>\n",
       "    <tr>\n",
       "      <th>11</th>\n",
       "      <td>Côte d'Ivoire</td>\n",
       "      <td>0</td>\n",
       "      <td>57</td>\n",
       "      <td>65</td>\n",
       "      <td>83</td>\n",
       "      <td>65</td>\n",
       "      <td>81</td>\n",
       "      <td>5.755</td>\n",
       "      <td>1.9</td>\n",
       "      <td>1765</td>\n",
       "      <td>1395398</td>\n",
       "      <td>6</td>\n",
       "      <td>53</td>\n",
       "    </tr>\n",
       "    <tr>\n",
       "      <th>12</th>\n",
       "      <td>Guinea</td>\n",
       "      <td>0</td>\n",
       "      <td>28</td>\n",
       "      <td>42</td>\n",
       "      <td>63</td>\n",
       "      <td>11</td>\n",
       "      <td>63</td>\n",
       "      <td>4.730</td>\n",
       "      <td>2.0</td>\n",
       "      <td>459</td>\n",
       "      <td>113517</td>\n",
       "      <td>8</td>\n",
       "      <td>58</td>\n",
       "    </tr>\n",
       "    <tr>\n",
       "      <th>13</th>\n",
       "      <td>Maldives</td>\n",
       "      <td>0</td>\n",
       "      <td>3</td>\n",
       "      <td>660</td>\n",
       "      <td>98</td>\n",
       "      <td>47</td>\n",
       "      <td>98</td>\n",
       "      <td>7.370</td>\n",
       "      <td>0.1</td>\n",
       "      <td>4429</td>\n",
       "      <td>333</td>\n",
       "      <td>14</td>\n",
       "      <td>75</td>\n",
       "    </tr>\n",
       "    <tr>\n",
       "      <th>14</th>\n",
       "      <td>Uzbekistan</td>\n",
       "      <td>0</td>\n",
       "      <td>17</td>\n",
       "      <td>19</td>\n",
       "      <td>99</td>\n",
       "      <td>17</td>\n",
       "      <td>99</td>\n",
       "      <td>6.320</td>\n",
       "      <td>0.1</td>\n",
       "      <td>198</td>\n",
       "      <td>32432</td>\n",
       "      <td>3</td>\n",
       "      <td>69</td>\n",
       "    </tr>\n",
       "    <tr>\n",
       "      <th>15</th>\n",
       "      <td>Haiti</td>\n",
       "      <td>0</td>\n",
       "      <td>16</td>\n",
       "      <td>41</td>\n",
       "      <td>81</td>\n",
       "      <td>17</td>\n",
       "      <td>65</td>\n",
       "      <td>6.680</td>\n",
       "      <td>2.0</td>\n",
       "      <td>668</td>\n",
       "      <td>985287</td>\n",
       "      <td>4</td>\n",
       "      <td>62</td>\n",
       "    </tr>\n",
       "    <tr>\n",
       "      <th>16</th>\n",
       "      <td>Madagascar</td>\n",
       "      <td>0</td>\n",
       "      <td>44</td>\n",
       "      <td>36</td>\n",
       "      <td>81</td>\n",
       "      <td>35256</td>\n",
       "      <td>58</td>\n",
       "      <td>5.800</td>\n",
       "      <td>0.6</td>\n",
       "      <td>246</td>\n",
       "      <td>1576686</td>\n",
       "      <td>9</td>\n",
       "      <td>58</td>\n",
       "    </tr>\n",
       "    <tr>\n",
       "      <th>17</th>\n",
       "      <td>Germany</td>\n",
       "      <td>1</td>\n",
       "      <td>3</td>\n",
       "      <td>5842</td>\n",
       "      <td>88</td>\n",
       "      <td>121</td>\n",
       "      <td>96</td>\n",
       "      <td>1.370</td>\n",
       "      <td>0.1</td>\n",
       "      <td>34166</td>\n",
       "      <td>8251626</td>\n",
       "      <td>1</td>\n",
       "      <td>79</td>\n",
       "    </tr>\n",
       "    <tr>\n",
       "      <th>18</th>\n",
       "      <td>Dominican Republic</td>\n",
       "      <td>0</td>\n",
       "      <td>7</td>\n",
       "      <td>45</td>\n",
       "      <td>68</td>\n",
       "      <td>253</td>\n",
       "      <td>71</td>\n",
       "      <td>5.900</td>\n",
       "      <td>2.5</td>\n",
       "      <td>282</td>\n",
       "      <td>8562622</td>\n",
       "      <td>4</td>\n",
       "      <td>72</td>\n",
       "    </tr>\n",
       "    <tr>\n",
       "      <th>19</th>\n",
       "      <td>Norway</td>\n",
       "      <td>1</td>\n",
       "      <td>3</td>\n",
       "      <td>6357</td>\n",
       "      <td>81</td>\n",
       "      <td>4</td>\n",
       "      <td>91</td>\n",
       "      <td>8.650</td>\n",
       "      <td>0.1</td>\n",
       "      <td>38550</td>\n",
       "      <td>4513751</td>\n",
       "      <td>1</td>\n",
       "      <td>79</td>\n",
       "    </tr>\n",
       "    <tr>\n",
       "      <th>20</th>\n",
       "      <td>Netherlands</td>\n",
       "      <td>1</td>\n",
       "      <td>1</td>\n",
       "      <td>5170</td>\n",
       "      <td>81</td>\n",
       "      <td>11</td>\n",
       "      <td>98</td>\n",
       "      <td>8.520</td>\n",
       "      <td>0.1</td>\n",
       "      <td>39955</td>\n",
       "      <td>16281779</td>\n",
       "      <td>1</td>\n",
       "      <td>79</td>\n",
       "    </tr>\n",
       "  </tbody>\n",
       "</table>\n",
       "</div>"
      ],
      "text/plain": [
       "                    Nation  Country_Category  Infant_Deaths_Count  \\\n",
       "0     Syrian Arab Republic                 0                    8   \n",
       "1                  Croatia                 1                    3   \n",
       "2               Montenegro                 0                    3   \n",
       "3                  Bahrain                 0                    3   \n",
       "4                    Kenya                 0                   77   \n",
       "5                     Chad                 0                   46   \n",
       "6          Solomon Islands                 0                    3   \n",
       "7                     Peru                 0                   11   \n",
       "8   Bosnia and Herzegovina                 0                    3   \n",
       "10                Cameroon                 0                   62   \n",
       "11           Côte d'Ivoire                 0                   57   \n",
       "12                  Guinea                 0                   28   \n",
       "13                Maldives                 0                    3   \n",
       "14              Uzbekistan                 0                   17   \n",
       "15                   Haiti                 0                   16   \n",
       "16              Madagascar                 0                   44   \n",
       "17                 Germany                 1                    3   \n",
       "18      Dominican Republic                 0                    7   \n",
       "19                  Norway                 1                    3   \n",
       "20             Netherlands                 1                    1   \n",
       "\n",
       "    Expenditure_Percentage_GDP  Hepatitis_B_Vaccination_Coverage  \\\n",
       "0                          123                                83   \n",
       "1                         1556                                81   \n",
       "2                          679                                 9   \n",
       "3                          367                                98   \n",
       "4                            1                                81   \n",
       "5                           49                                17   \n",
       "6                           25                                83   \n",
       "7                           58                                93   \n",
       "8                          733                                89   \n",
       "10                           5                                81   \n",
       "11                          65                                83   \n",
       "12                          42                                63   \n",
       "13                         660                                98   \n",
       "14                          19                                99   \n",
       "15                          41                                81   \n",
       "16                          36                                81   \n",
       "17                        5842                                88   \n",
       "18                          45                                68   \n",
       "19                        6357                                81   \n",
       "20                        5170                                81   \n",
       "\n",
       "    Measles_Infection_Count  Polio_Vaccination_Coverage  \\\n",
       "0                       517                          83   \n",
       "1                         1                          96   \n",
       "2                        17                          92   \n",
       "3                        46                          98   \n",
       "4                     21002                           8   \n",
       "5                        63                           3   \n",
       "6                        17                           9   \n",
       "7                         1                          93   \n",
       "8                      3000                          86   \n",
       "10                    14629                          57   \n",
       "11                       65                          81   \n",
       "12                       11                          63   \n",
       "13                       47                          98   \n",
       "14                       17                          99   \n",
       "15                       17                          65   \n",
       "16                    35256                          58   \n",
       "17                      121                          96   \n",
       "18                      253                          71   \n",
       "19                        4                          91   \n",
       "20                       11                          98   \n",
       "\n",
       "    Total_Health_Expenditure  HIV_AIDS_Prevalence_Rate  \\\n",
       "0                      3.780                       0.1   \n",
       "1                      6.950                       0.1   \n",
       "2                      6.740                       0.1   \n",
       "3                      4.980                       0.1   \n",
       "4                      4.680                      18.1   \n",
       "5                      2.920                       4.7   \n",
       "6                      7.830                       0.1   \n",
       "7                      4.730                       0.3   \n",
       "8                      9.570                       0.1   \n",
       "10                     4.480                       7.7   \n",
       "11                     5.755                       1.9   \n",
       "12                     4.730                       2.0   \n",
       "13                     7.370                       0.1   \n",
       "14                     6.320                       0.1   \n",
       "15                     6.680                       2.0   \n",
       "16                     5.800                       0.6   \n",
       "17                     1.370                       0.1   \n",
       "18                     5.900                       2.5   \n",
       "19                     8.650                       0.1   \n",
       "20                     8.520                       0.1   \n",
       "\n",
       "    Gross_Domestic_Product  Total_Population  Thinness  Life_Expectancy_Years  \n",
       "0                     1762          18914977         6                     74  \n",
       "1                    11363               444         2                     76  \n",
       "2                     5957            615875         2                     74  \n",
       "3                    24983           1395398         6                     77  \n",
       "4                       44           3145483         9                     52  \n",
       "5                      930          11133861        10                     50  \n",
       "6                       89            469885         1                     67  \n",
       "7                      429           2864198         1                     74  \n",
       "8                     5194             35662         2                     77  \n",
       "10                      68          15274234         8                     51  \n",
       "11                    1765           1395398         6                     53  \n",
       "12                     459            113517         8                     58  \n",
       "13                    4429               333        14                     75  \n",
       "14                     198             32432         3                     69  \n",
       "15                     668            985287         4                     62  \n",
       "16                     246           1576686         9                     58  \n",
       "17                   34166           8251626         1                     79  \n",
       "18                     282           8562622         4                     72  \n",
       "19                   38550           4513751         1                     79  \n",
       "20                   39955          16281779         1                     79  "
      ]
     },
     "execution_count": 48,
     "metadata": {},
     "output_type": "execute_result"
    }
   ],
   "source": [
    "df.head(20)"
   ]
  },
  {
   "cell_type": "markdown",
   "id": "fa71366a",
   "metadata": {},
   "source": [
    "# 3- visualization"
   ]
  },
  {
   "cell_type": "code",
   "execution_count": 49,
   "id": "7f4c17aa",
   "metadata": {},
   "outputs": [
    {
     "data": {
      "image/png": "[encoded data removed]",
      "text/plain": [
       "<Figure size 640x480 with 1 Axes>"
      ]
     },
     "metadata": {},
     "output_type": "display_data"
    }
   ],
   "source": [
    "sns.histplot(df['Gross_Domestic_Product'], kde=True, color='blue')\n",
    "plt.title('Distribution of Gross Domestic Product')\n",
    "plt.show()"
   ]
  },
  {
   "cell_type": "code",
   "execution_count": 50,
   "id": "0c79a579",
   "metadata": {},
   "outputs": [
    {
     "data": {
      "image/png": "[encoded data removed]",
      "text/plain": [
       "<Figure size 640x480 with 1 Axes>"
      ]
     },
     "metadata": {},
     "output_type": "display_data"
    }
   ],
   "source": [
    "sns.scatterplot(x='Total_Population', y='Life_Expectancy_Years', data=df)\n",
    "plt.title('Total Population vs. Life Expectancy')\n",
    "plt.show()"
   ]
  },
  {
   "cell_type": "code",
   "execution_count": 51,
   "id": "4487a989",
   "metadata": {},
   "outputs": [
    {
     "data": {
      "image/png": "[encoded data removed]",
      "text/plain": [
       "<Figure size 640x480 with 1 Axes>"
      ]
     },
     "metadata": {},
     "output_type": "display_data"
    }
   ],
   "source": [
    "df['Polio_Vaccination_Coverage'].value_counts().plot(kind='pie', autopct='%1.1f%%')\n",
    "plt.title('Polio Vaccination Coverage Distribution')\n",
    "plt.show()"
   ]
  },
  {
   "cell_type": "code",
   "execution_count": 52,
   "id": "bc6ed2e3",
   "metadata": {},
   "outputs": [
    {
     "data": {
      "image/png": "[encoded data removed]",
      "text/plain": [
       "<Figure size 640x480 with 1 Axes>"
      ]
     },
     "metadata": {},
     "output_type": "display_data"
    }
   ],
   "source": [
    "df.groupby('Country_Category')[['HIV_AIDS_Prevalence_Rate', 'Measles_Infection_Count']].sum().plot(kind='bar', stacked=True)\n",
    "plt.title('Comparison of HIV and Measles Infection Counts by Country Category')\n",
    "plt.show()"
   ]
  },
  {
   "cell_type": "code",
   "execution_count": 53,
   "id": "648b6f7f",
   "metadata": {},
   "outputs": [
    {
     "data": {
      "image/png": "[encoded data removed]",
      "text/plain": [
       "<Figure size 640x480 with 1 Axes>"
      ]
     },
     "metadata": {},
     "output_type": "display_data"
    }
   ],
   "source": [
    "sns.barplot(x='Country_Category', y='Total_Health_Expenditure', data=df)\n",
    "plt.title('Total Health Expenditure by Country Category')\n",
    "plt.show()"
   ]
  },
  {
   "cell_type": "markdown",
   "id": "10d07c8c",
   "metadata": {},
   "source": [
    "# 4- Machine Learning Model\n",
    "##### I am not very good in building machine learning models yet, but I will give it a try"
   ]
  },
  {
   "cell_type": "code",
   "execution_count": 54,
   "id": "d438c5e3",
   "metadata": {},
   "outputs": [
    {
     "data": {
      "text/plain": [
       "Nation                              1\n",
       "Country_Category                    0\n",
       "Infant_Deaths_Count                 0\n",
       "Expenditure_Percentage_GDP          0\n",
       "Hepatitis_B_Vaccination_Coverage    0\n",
       "Measles_Infection_Count             0\n",
       "Polio_Vaccination_Coverage          0\n",
       "Total_Health_Expenditure            0\n",
       "HIV_AIDS_Prevalence_Rate            0\n",
       "Gross_Domestic_Product              0\n",
       "Total_Population                    0\n",
       "Thinness                            0\n",
       "Life_Expectancy_Years               0\n",
       "dtype: int64"
      ]
     },
     "execution_count": 54,
     "metadata": {},
     "output_type": "execute_result"
    }
   ],
   "source": [
    "df.isnull().sum()"
   ]
  },
  {
   "cell_type": "code",
   "execution_count": 55,
   "id": "84b1cb30",
   "metadata": {},
   "outputs": [],
   "source": [
    "Nations = df['Nation']"
   ]
  },
  {
   "cell_type": "code",
   "execution_count": 56,
   "id": "05252f30",
   "metadata": {},
   "outputs": [],
   "source": [
    "df.drop(['Nation'], axis=1, inplace=True)\n",
    "# I temporarily will remove the 'nation' column to simplify the analysis  \n",
    "# I plan to add it back to the dataset after the model has been trained"
   ]
  },
  {
   "cell_type": "code",
   "execution_count": 57,
   "id": "a88ac360",
   "metadata": {},
   "outputs": [],
   "source": [
    "X = df[[ 'Infant_Deaths_Count',\n",
    "       'Expenditure_Percentage_GDP', 'Hepatitis_B_Vaccination_Coverage',\n",
    "       'Measles_Infection_Count', 'Polio_Vaccination_Coverage',\n",
    "       'Total_Health_Expenditure', 'HIV_AIDS_Prevalence_Rate',\n",
    "       'Gross_Domestic_Product', 'Total_Population', 'Thinness',\n",
    "       'Life_Expectancy_Years']]\n",
    "\n",
    "y = df['Country_Category']"
   ]
  },
  {
   "cell_type": "code",
   "execution_count": 58,
   "id": "94905013",
   "metadata": {},
   "outputs": [],
   "source": [
    "X_train, X_test, y_train, y_test = train_test_split(X, y, test_size=0.2, random_state=42)"
   ]
  },
  {
   "cell_type": "code",
   "execution_count": 59,
   "id": "f68899e2",
   "metadata": {},
   "outputs": [],
   "source": [
    "from sklearn.ensemble import RandomForestClassifier\n",
    "from sklearn.metrics import accuracy_score"
   ]
  },
  {
   "cell_type": "code",
   "execution_count": 60,
   "id": "7b503e01",
   "metadata": {},
   "outputs": [
    {
     "data": {
      "text/plain": [
       "Country_Category                      int64\n",
       "Infant_Deaths_Count                   int64\n",
       "Expenditure_Percentage_GDP            int32\n",
       "Hepatitis_B_Vaccination_Coverage      int32\n",
       "Measles_Infection_Count               int32\n",
       "Polio_Vaccination_Coverage            int32\n",
       "Total_Health_Expenditure            float64\n",
       "HIV_AIDS_Prevalence_Rate            float64\n",
       "Gross_Domestic_Product                int32\n",
       "Total_Population                      int32\n",
       "Thinness                              int32\n",
       "Life_Expectancy_Years                 int32\n",
       "dtype: object"
      ]
     },
     "execution_count": 60,
     "metadata": {},
     "output_type": "execute_result"
    }
   ],
   "source": [
    "df.dtypes"
   ]
  },
  {
   "cell_type": "code",
   "execution_count": 61,
   "id": "216b2826",
   "metadata": {},
   "outputs": [
    {
     "data": {
      "text/plain": [
       "dtype('int64')"
      ]
     },
     "execution_count": 61,
     "metadata": {},
     "output_type": "execute_result"
    }
   ],
   "source": [
    "df['Country_Category'].dtypes"
   ]
  },
  {
   "cell_type": "code",
   "execution_count": 62,
   "id": "3695d7de",
   "metadata": {},
   "outputs": [],
   "source": [
    "model = RandomForestClassifier(random_state=42)\n",
    "model.fit(X_train, y_train)\n",
    "y_predict = model.predict(X_test)\n",
    "\n",
    "accuracy = accuracy_score(y_test, y_predict)"
   ]
  },
  {
   "cell_type": "code",
   "execution_count": 63,
   "id": "51ff733a",
   "metadata": {},
   "outputs": [
    {
     "data": {
      "text/plain": [
       "0.9447322970639033"
      ]
     },
     "execution_count": 63,
     "metadata": {},
     "output_type": "execute_result"
    }
   ],
   "source": [
    "accuracy"
   ]
  },
  {
   "cell_type": "code",
   "execution_count": 64,
   "id": "52b90d81",
   "metadata": {},
   "outputs": [
    {
     "data": {
      "text/plain": [
       "(2891,)"
      ]
     },
     "execution_count": 64,
     "metadata": {},
     "output_type": "execute_result"
    }
   ],
   "source": [
    "Nations.shape"
   ]
  },
  {
   "cell_type": "code",
   "execution_count": 65,
   "id": "de656019",
   "metadata": {},
   "outputs": [
    {
     "data": {
      "text/plain": [
       "(2891, 12)"
      ]
     },
     "execution_count": 65,
     "metadata": {},
     "output_type": "execute_result"
    }
   ],
   "source": [
    "df.shape"
   ]
  },
  {
   "cell_type": "code",
   "execution_count": 68,
   "id": "d8a36b1d",
   "metadata": {},
   "outputs": [],
   "source": [
    "df = pd.concat([Nations , df], axis=1)"
   ]
  },
  {
   "cell_type": "code",
   "execution_count": 69,
   "id": "5cea3c44",
   "metadata": {},
   "outputs": [
    {
     "data": {
      "text/html": [
       "<div>\n",
       "<style scoped>\n",
       "    .dataframe tbody tr th:only-of-type {\n",
       "        vertical-align: middle;\n",
       "    }\n",
       "\n",
       "    .dataframe tbody tr th {\n",
       "        vertical-align: top;\n",
       "    }\n",
       "\n",
       "    .dataframe thead th {\n",
       "        text-align: right;\n",
       "    }\n",
       "</style>\n",
       "<table border=\"1\" class=\"dataframe\">\n",
       "  <thead>\n",
       "    <tr style=\"text-align: right;\">\n",
       "      <th></th>\n",
       "      <th>Nation</th>\n",
       "      <th>Country_Category</th>\n",
       "      <th>Infant_Deaths_Count</th>\n",
       "      <th>Expenditure_Percentage_GDP</th>\n",
       "      <th>Hepatitis_B_Vaccination_Coverage</th>\n",
       "      <th>Measles_Infection_Count</th>\n",
       "      <th>Polio_Vaccination_Coverage</th>\n",
       "      <th>Total_Health_Expenditure</th>\n",
       "      <th>HIV_AIDS_Prevalence_Rate</th>\n",
       "      <th>Gross_Domestic_Product</th>\n",
       "      <th>Total_Population</th>\n",
       "      <th>Thinness</th>\n",
       "      <th>Life_Expectancy_Years</th>\n",
       "      <th>Nation</th>\n",
       "    </tr>\n",
       "  </thead>\n",
       "  <tbody>\n",
       "    <tr>\n",
       "      <th>0</th>\n",
       "      <td>Syrian Arab Republic</td>\n",
       "      <td>0</td>\n",
       "      <td>8</td>\n",
       "      <td>123</td>\n",
       "      <td>83</td>\n",
       "      <td>517</td>\n",
       "      <td>83</td>\n",
       "      <td>3.78</td>\n",
       "      <td>0.1</td>\n",
       "      <td>1762</td>\n",
       "      <td>18914977</td>\n",
       "      <td>6</td>\n",
       "      <td>74</td>\n",
       "      <td>Syrian Arab Republic</td>\n",
       "    </tr>\n",
       "    <tr>\n",
       "      <th>1</th>\n",
       "      <td>Croatia</td>\n",
       "      <td>1</td>\n",
       "      <td>3</td>\n",
       "      <td>1556</td>\n",
       "      <td>81</td>\n",
       "      <td>1</td>\n",
       "      <td>96</td>\n",
       "      <td>6.95</td>\n",
       "      <td>0.1</td>\n",
       "      <td>11363</td>\n",
       "      <td>444</td>\n",
       "      <td>2</td>\n",
       "      <td>76</td>\n",
       "      <td>Croatia</td>\n",
       "    </tr>\n",
       "    <tr>\n",
       "      <th>2</th>\n",
       "      <td>Montenegro</td>\n",
       "      <td>0</td>\n",
       "      <td>3</td>\n",
       "      <td>679</td>\n",
       "      <td>9</td>\n",
       "      <td>17</td>\n",
       "      <td>92</td>\n",
       "      <td>6.74</td>\n",
       "      <td>0.1</td>\n",
       "      <td>5957</td>\n",
       "      <td>615875</td>\n",
       "      <td>2</td>\n",
       "      <td>74</td>\n",
       "      <td>Montenegro</td>\n",
       "    </tr>\n",
       "    <tr>\n",
       "      <th>3</th>\n",
       "      <td>Bahrain</td>\n",
       "      <td>0</td>\n",
       "      <td>3</td>\n",
       "      <td>367</td>\n",
       "      <td>98</td>\n",
       "      <td>46</td>\n",
       "      <td>98</td>\n",
       "      <td>4.98</td>\n",
       "      <td>0.1</td>\n",
       "      <td>24983</td>\n",
       "      <td>1395398</td>\n",
       "      <td>6</td>\n",
       "      <td>77</td>\n",
       "      <td>Bahrain</td>\n",
       "    </tr>\n",
       "    <tr>\n",
       "      <th>4</th>\n",
       "      <td>Kenya</td>\n",
       "      <td>0</td>\n",
       "      <td>77</td>\n",
       "      <td>1</td>\n",
       "      <td>81</td>\n",
       "      <td>21002</td>\n",
       "      <td>8</td>\n",
       "      <td>4.68</td>\n",
       "      <td>18.1</td>\n",
       "      <td>44</td>\n",
       "      <td>3145483</td>\n",
       "      <td>9</td>\n",
       "      <td>52</td>\n",
       "      <td>Kenya</td>\n",
       "    </tr>\n",
       "  </tbody>\n",
       "</table>\n",
       "</div>"
      ],
      "text/plain": [
       "                 Nation  Country_Category  Infant_Deaths_Count  \\\n",
       "0  Syrian Arab Republic                 0                    8   \n",
       "1               Croatia                 1                    3   \n",
       "2            Montenegro                 0                    3   \n",
       "3               Bahrain                 0                    3   \n",
       "4                 Kenya                 0                   77   \n",
       "\n",
       "   Expenditure_Percentage_GDP  Hepatitis_B_Vaccination_Coverage  \\\n",
       "0                         123                                83   \n",
       "1                        1556                                81   \n",
       "2                         679                                 9   \n",
       "3                         367                                98   \n",
       "4                           1                                81   \n",
       "\n",
       "   Measles_Infection_Count  Polio_Vaccination_Coverage  \\\n",
       "0                      517                          83   \n",
       "1                        1                          96   \n",
       "2                       17                          92   \n",
       "3                       46                          98   \n",
       "4                    21002                           8   \n",
       "\n",
       "   Total_Health_Expenditure  HIV_AIDS_Prevalence_Rate  Gross_Domestic_Product  \\\n",
       "0                      3.78                       0.1                    1762   \n",
       "1                      6.95                       0.1                   11363   \n",
       "2                      6.74                       0.1                    5957   \n",
       "3                      4.98                       0.1                   24983   \n",
       "4                      4.68                      18.1                      44   \n",
       "\n",
       "   Total_Population  Thinness  Life_Expectancy_Years                Nation  \n",
       "0          18914977         6                     74  Syrian Arab Republic  \n",
       "1               444         2                     76               Croatia  \n",
       "2            615875         2                     74            Montenegro  \n",
       "3           1395398         6                     77               Bahrain  \n",
       "4           3145483         9                     52                 Kenya  "
      ]
     },
     "execution_count": 69,
     "metadata": {},
     "output_type": "execute_result"
    }
   ],
   "source": [
    "df.head()"
   ]
  },
  {
   "cell_type": "code",
   "execution_count": null,
   "id": "232c11ed",
   "metadata": {},
   "outputs": [],
   "source": []
  }
 ],
 "metadata": {
  "kernelspec": {
   "display_name": "Python 3 (ipykernel)",
   "language": "python",
   "name": "python3"
  },
  "language_info": {
   "codemirror_mode": {
    "name": "ipython",
    "version": 3
   },
   "file_extension": ".py",
   "mimetype": "text/x-python",
   "name": "python",
   "nbconvert_exporter": "python",
   "pygments_lexer": "ipython3",
   "version": "3.9.13"
  }
 },
 "nbformat": 4,
 "nbformat_minor": 5
}
